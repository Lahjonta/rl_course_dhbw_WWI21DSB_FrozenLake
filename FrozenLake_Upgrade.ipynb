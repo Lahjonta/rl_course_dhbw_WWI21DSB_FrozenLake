{
 "cells": [
  {
   "cell_type": "markdown",
   "id": "acb43739",
   "metadata": {},
   "source": [
    "# Frozen Lake with Q-Learning\n",
    "\n",
    "#### Code Source: for basic initialization adapted from https://github.com/Viddesh1/RL/blob/main/Mini_Project.ipynb\n",
    "\n",
    "### Import Libraries"
   ]
  },
  {
   "cell_type": "code",
   "execution_count": 1,
   "id": "794cfcc1",
   "metadata": {},
   "outputs": [],
   "source": [
    "# Importing the necessary libraries for standard Frozen Lake\n",
    "import numpy as np # For fast numeric / linear algebra computation.\n",
    "import time        # For controling time of execution.  \n",
    "import pickle      # For storing updated Q-table.\n",
    "import gym         # For working with open AI frozen lake v1 environment and utilities.\n",
    "import matplotlib.pyplot as plt # For plotting rewards over iterations.\n",
    "\n",
    "\n",
    "# Importing the necessary libraries for Frozen Lake 2.0\n",
    "from gym.envs.toy_text.frozen_lake import generate_random_map, FrozenLakeEnv # For taking basics from standard Frozen lake to adapt to our use case\n",
    "from contextlib import closing  # Ensures proper cleanup of resources\n",
    "from io import StringIO  # In-memory text stream for ANSI rendering"
   ]
  },
  {
   "cell_type": "markdown",
   "id": "c3f1bdf1",
   "metadata": {},
   "source": [
    "### Set Hyperparameters"
   ]
  },
  {
   "cell_type": "code",
   "execution_count": 2,
   "id": "a407cf1f",
   "metadata": {},
   "outputs": [],
   "source": [
    "# Hyper-Parameters for both standard and 2.0\n",
    "total_episodes = 10000 # Total number of iterations or episodes of training.\n",
    "\n",
    "# A higher value of epsilon encourages more exploration, while a lower value of epsilon favors exploitation.\n",
    "initial_epsilon = 1.0   # Initial exploration rate\n",
    "min_epsilon = 0.1       # Minimum exploration rate (increased to ensure exploration)\n",
    "epsilon_decay = 0.999 # Slow decay to allow exploration\n",
    "\n",
    "max_steps = 100 # Maximum number of steps that agent can take in environment\n",
    "\n",
    "lr_rate = 0.81 # Learning Rate of convergence to global minimum\n",
    "\n",
    "# A high discount factor means that future rewards are highly valued, while a \n",
    "# low discount factor means that immediate rewards are given greater weight\n",
    "gamma = 0.96 # Discount Factor, Positive real number (0 < gamma < 1)"
   ]
  },
  {
   "cell_type": "markdown",
   "id": "8e24b46e",
   "metadata": {},
   "source": [
    "## Frozen Lake Standard Implementation"
   ]
  },
  {
   "cell_type": "markdown",
   "id": "e5a81553",
   "metadata": {},
   "source": [
    "### Create Environment from OpenGym"
   ]
  },
  {
   "cell_type": "code",
   "execution_count": 3,
   "id": "3df8e145",
   "metadata": {},
   "outputs": [
    {
     "name": "stdout",
     "output_type": "stream",
     "text": [
      "Number of observation states:  16\n",
      "Number of action space :  4\n"
     ]
    }
   ],
   "source": [
    "# creating environment using gym package.\n",
    "env = gym.make('FrozenLake-v1', render_mode=\"ansi\", is_slippery=False) # ansi to render because JN has some issues with rendering #4x4 Lake \n",
    "# if wanted -> set: is_slippery=True for more complex example, or =False for guaranteed solution\n",
    "\n",
    "print(\"Number of observation states: \", env.observation_space.n)\n",
    "print(\"Number of action space : \", env.action_space.n)"
   ]
  },
  {
   "cell_type": "markdown",
   "id": "d03ccd87",
   "metadata": {},
   "source": [
    "### Initialize Q-Table for Training"
   ]
  },
  {
   "cell_type": "code",
   "execution_count": 4,
   "id": "e79a2874",
   "metadata": {},
   "outputs": [
    {
     "data": {
      "text/plain": [
       "array([[0., 0., 0., 0.],\n",
       "       [0., 0., 0., 0.],\n",
       "       [0., 0., 0., 0.],\n",
       "       [0., 0., 0., 0.],\n",
       "       [0., 0., 0., 0.],\n",
       "       [0., 0., 0., 0.],\n",
       "       [0., 0., 0., 0.],\n",
       "       [0., 0., 0., 0.],\n",
       "       [0., 0., 0., 0.],\n",
       "       [0., 0., 0., 0.],\n",
       "       [0., 0., 0., 0.],\n",
       "       [0., 0., 0., 0.],\n",
       "       [0., 0., 0., 0.],\n",
       "       [0., 0., 0., 0.],\n",
       "       [0., 0., 0., 0.],\n",
       "       [0., 0., 0., 0.]])"
      ]
     },
     "execution_count": 4,
     "metadata": {},
     "output_type": "execute_result"
    }
   ],
   "source": [
    "# Initializing the Q-table with zeros for 2-D array of (observation_space, action_space).\n",
    "Q = np.zeros((env.observation_space.n, env.action_space.n))\n",
    "Q"
   ]
  },
  {
   "cell_type": "markdown",
   "id": "a0c9b5f6",
   "metadata": {},
   "source": [
    "### Define Action Selection Function"
   ]
  },
  {
   "cell_type": "code",
   "execution_count": 5,
   "id": "2a15cfb7",
   "metadata": {},
   "outputs": [],
   "source": [
    "def choose_action(state, epsilon):\n",
    "    \"\"\" \n",
    "    The choose_action() function used a Epsilon-Greedy policy for Exploration and Exploitation.\n",
    "    \n",
    "    Exploration is done when uniform random number from 0 to 1 is less than epsilon value.\n",
    "    Else, Maximum value of the state and action pair is taken which is Exploitation.\n",
    "\n",
    "    Args:\n",
    "        state (int): Gets the current state as parameter/\n",
    "\n",
    "    Returns:\n",
    "        int: Returns action to be taken in that state\n",
    "    \"\"\"\n",
    "    if np.random.uniform(0, 1) < epsilon:\n",
    "        return env.action_space.sample()  # Explore: choose a random action\n",
    "    else:\n",
    "        return np.argmax(Q[state, :])     # Exploit: choose the action with the highest value"
   ]
  },
  {
   "cell_type": "markdown",
   "id": "c02cada1",
   "metadata": {},
   "source": [
    "### Define Learning Function"
   ]
  },
  {
   "cell_type": "code",
   "execution_count": 6,
   "id": "84a70159",
   "metadata": {},
   "outputs": [],
   "source": [
    "def learn(state, state2, reward, action):\n",
    "    \"\"\" \n",
    "    Updates the Q-table.\n",
    "    Agent learn to find a optimal policy by using bellman optimality equation.\n",
    "\n",
    "    Args:\n",
    "        state (int): Current state\n",
    "        state2 (int): Future state\n",
    "        reward (int): Reward if rached to goal state\n",
    "        action (int): action states\n",
    "    \"\"\"\n",
    "    predict = Q[state, action]\n",
    "    target = reward + gamma * np.max(Q[state2, :])\n",
    "    Q[state, action] = Q[state, action] + lr_rate * (target - predict)\n"
   ]
  },
  {
   "cell_type": "markdown",
   "id": "595fc603",
   "metadata": {},
   "source": [
    "### Look at a Try Before Training"
   ]
  },
  {
   "cell_type": "code",
   "execution_count": 7,
   "id": "52cdfc72",
   "metadata": {},
   "outputs": [
    {
     "name": "stdout",
     "output_type": "stream",
     "text": [
      "\n",
      "\u001b[41mS\u001b[0mFFF\n",
      "FHFH\n",
      "FFFH\n",
      "HFFG\n",
      "\n",
      "  (Left)\n",
      "\u001b[41mS\u001b[0mFFF\n",
      "FHFH\n",
      "FFFH\n",
      "HFFG\n",
      "\n",
      "  (Down)\n",
      "SFFF\n",
      "\u001b[41mF\u001b[0mHFH\n",
      "FFFH\n",
      "HFFG\n",
      "\n",
      "  (Left)\n",
      "SFFF\n",
      "\u001b[41mF\u001b[0mHFH\n",
      "FFFH\n",
      "HFFG\n",
      "\n",
      "  (Up)\n",
      "\u001b[41mS\u001b[0mFFF\n",
      "FHFH\n",
      "FFFH\n",
      "HFFG\n",
      "\n",
      "  (Up)\n",
      "\u001b[41mS\u001b[0mFFF\n",
      "FHFH\n",
      "FFFH\n",
      "HFFG\n",
      "\n"
     ]
    },
    {
     "name": "stderr",
     "output_type": "stream",
     "text": [
      "C:\\Users\\Janika\\AppData\\Local\\Programs\\Python\\Python311\\Lib\\site-packages\\gym\\utils\\passive_env_checker.py:233: DeprecationWarning: `np.bool8` is a deprecated alias for `np.bool_`.  (Deprecated NumPy 1.24)\n",
      "  if not isinstance(terminated, (bool, np.bool8)):\n"
     ]
    }
   ],
   "source": [
    "# Reset environment to initial state\n",
    "state, _ = env.reset()\n",
    "\n",
    "# Render the initial state\n",
    "print(env.render())\n",
    "\n",
    "# Take a few random steps to see the environment in action\n",
    "for _ in range(5):\n",
    "    action = env.action_space.sample()  # Choose a random action\n",
    "    state, reward, done, truncated, info = env.step(action)\n",
    "    print(env.render())\n",
    "    if done:\n",
    "        break"
   ]
  },
  {
   "cell_type": "markdown",
   "id": "f8e4d153",
   "metadata": {},
   "source": [
    "#### Frozen Lake Environment and Meaning of Fields"
   ]
  },
  {
   "cell_type": "raw",
   "id": "0b9aa9c2",
   "metadata": {},
   "source": [
    "S F F F       (S: starting point, safe)\n",
    "F H F H       (F: frozen surface, safe)\n",
    "F F F H       (H: hole, stuck forever)\n",
    "H F F G       (G: goal, safe)"
   ]
  },
  {
   "cell_type": "markdown",
   "id": "aac9d6a5",
   "metadata": {},
   "source": [
    "### Train Agent"
   ]
  },
  {
   "cell_type": "code",
   "execution_count": 8,
   "id": "da1aa7d4",
   "metadata": {},
   "outputs": [],
   "source": [
    "rewards = []\n",
    "epsilon = initial_epsilon\n",
    "\n",
    "for episode in range(total_episodes):\n",
    "    state, _ = env.reset()\n",
    "    total_reward = 0\n",
    "    \n",
    "    for t in range(max_steps):\n",
    "        action = choose_action(state, epsilon)\n",
    "        state2, reward, done, truncated, info = env.step(action)\n",
    "        \n",
    "        learn(state, state2, reward, action)\n",
    "        \n",
    "        total_reward += reward\n",
    "        state = state2\n",
    "        \n",
    "        if done:\n",
    "            break\n",
    "    \n",
    "    # Decay epsilon\n",
    "    epsilon = max(min_epsilon, epsilon * epsilon_decay)\n",
    "    \n",
    "    rewards.append(total_reward)"
   ]
  },
  {
   "cell_type": "markdown",
   "id": "ab8a88d7",
   "metadata": {},
   "source": [
    "### Plot Reward Function Over Iterations of Training\n",
    "\n",
    "#### Only Reward is Given for Reaching Goal (+1)"
   ]
  },
  {
   "cell_type": "code",
   "execution_count": 9,
   "id": "cd6de97d",
   "metadata": {},
   "outputs": [
    {
     "data": {
      "image/png": "[encoded data removed]",
      "text/plain": [
       "<Figure size 640x480 with 1 Axes>"
      ]
     },
     "metadata": {},
     "output_type": "display_data"
    }
   ],
   "source": [
    "# Function to check learning progress via average rewards\n",
    "def plot_metrics(episodes, rewards):\n",
    "    plt.figure(figsize=(12, 5))\n",
    "\n",
    "    plt.subplot(1, 2, 1)\n",
    "    plt.plot(episodes, rewards, label='Rewards')\n",
    "    plt.xlabel('Episode')\n",
    "    plt.ylabel('Reward')\n",
    "    plt.title('Reward per Episode')\n",
    "\n",
    "    plt.show()\n",
    "\n",
    "# Calculate average rewards over 100 episodes\n",
    "avg_rewards = []\n",
    "for i in range(0, len(rewards), 100):\n",
    "    avg_rewards.append(np.mean(rewards[i:i+100]))\n",
    "\n",
    "### Plot Rewards over Iterations to see progress\n",
    "plt.plot(avg_rewards)\n",
    "plt.xlabel('Episode Number x100')\n",
    "plt.ylabel('Average Reward')\n",
    "plt.title('Total Average Reward per 100 Episodes')\n",
    "plt.show()"
   ]
  },
  {
   "cell_type": "markdown",
   "id": "b2334c56",
   "metadata": {},
   "source": [
    "### Look at a Walkthrough after Training"
   ]
  },
  {
   "cell_type": "code",
   "execution_count": 10,
   "id": "672027ae",
   "metadata": {},
   "outputs": [
    {
     "name": "stdout",
     "output_type": "stream",
     "text": [
      "Final try after training:\n",
      "\n",
      "\u001b[41mS\u001b[0mFFF\n",
      "FHFH\n",
      "FFFH\n",
      "HFFG\n",
      "\n",
      "  (Down)\n",
      "SFFF\n",
      "\u001b[41mF\u001b[0mHFH\n",
      "FFFH\n",
      "HFFG\n",
      "\n",
      "  (Down)\n",
      "SFFF\n",
      "FHFH\n",
      "\u001b[41mF\u001b[0mFFH\n",
      "HFFG\n",
      "\n",
      "  (Right)\n",
      "SFFF\n",
      "FHFH\n",
      "F\u001b[41mF\u001b[0mFH\n",
      "HFFG\n",
      "\n",
      "  (Down)\n",
      "SFFF\n",
      "FHFH\n",
      "FFFH\n",
      "H\u001b[41mF\u001b[0mFG\n",
      "\n",
      "  (Right)\n",
      "SFFF\n",
      "FHFH\n",
      "FFFH\n",
      "HF\u001b[41mF\u001b[0mG\n",
      "\n"
     ]
    }
   ],
   "source": [
    "# Render the environment after training is complete\n",
    "state, _ = env.reset()  # Reset the environment for the final render\n",
    "t = 0\n",
    "\n",
    "print(\"Final try after training:\")\n",
    "while t < max_steps:\n",
    "    print(env.render())  # Render the environment after training\n",
    "\n",
    "    action = np.argmax(Q[state, :])  # Take the best action based on the learned Q-table\n",
    "    state, reward, done, truncated, info = env.step(action)  # Take action and observe outcome\n",
    "    t += 1\n",
    "\n",
    "    if done:  # End episode if goal is reached\n",
    "        break\n",
    "\n",
    "    time.sleep(0.1)  # Slow down the process for better observation"
   ]
  },
  {
   "cell_type": "markdown",
   "id": "bc635f6f",
   "metadata": {},
   "source": [
    "### Look at and Save Our Trained Q-Table"
   ]
  },
  {
   "cell_type": "code",
   "execution_count": 11,
   "id": "29bbd233",
   "metadata": {},
   "outputs": [
    {
     "data": {
      "text/plain": [
       "array([[0.78275779, 0.8153727 , 0.8153727 , 0.78275779],\n",
       "       [0.78275779, 0.        , 0.84934656, 0.8153727 ],\n",
       "       [0.8153727 , 0.884736  , 0.8153727 , 0.84934656],\n",
       "       [0.84934656, 0.        , 0.8153727 , 0.8153727 ],\n",
       "       [0.8153727 , 0.84934656, 0.        , 0.78275779],\n",
       "       [0.        , 0.        , 0.        , 0.        ],\n",
       "       [0.        , 0.9216    , 0.        , 0.84934656],\n",
       "       [0.        , 0.        , 0.        , 0.        ],\n",
       "       [0.84934656, 0.        , 0.884736  , 0.8153727 ],\n",
       "       [0.84934656, 0.9216    , 0.9216    , 0.        ],\n",
       "       [0.884736  , 0.96      , 0.        , 0.884736  ],\n",
       "       [0.        , 0.        , 0.        , 0.        ],\n",
       "       [0.        , 0.        , 0.        , 0.        ],\n",
       "       [0.        , 0.9216    , 0.96      , 0.884736  ],\n",
       "       [0.9216    , 0.96      , 1.        , 0.9216    ],\n",
       "       [0.        , 0.        , 0.        , 0.        ]])"
      ]
     },
     "execution_count": 11,
     "metadata": {},
     "output_type": "execute_result"
    }
   ],
   "source": [
    "Q"
   ]
  },
  {
   "cell_type": "code",
   "execution_count": 12,
   "id": "0e82d33d",
   "metadata": {},
   "outputs": [],
   "source": [
    "# Dumping the Q-table in pickle file for easy loading when needed.\n",
    "with open(\"frozenLake_qTable.pkl\", 'wb') as f:\n",
    "    pickle.dump(Q, f)"
   ]
  },
  {
   "cell_type": "markdown",
   "id": "3e49651b",
   "metadata": {},
   "source": [
    "## Frozen Lake 2.0\n",
    "\n",
    "### Create a Custom Frozen Lake Environment\n",
    "\n",
    "#### Code source: own creation"
   ]
  },
  {
   "cell_type": "code",
   "execution_count": 13,
   "id": "0cdc0cdb",
   "metadata": {},
   "outputs": [],
   "source": [
    "class CustomFrozenLakeEnv(FrozenLakeEnv):\n",
    "    def __init__(self, desc=None, map_name=\"4x4\", is_slippery=False):\n",
    "        if desc is not None:\n",
    "            desc = np.array([list(row) for row in desc], dtype='c')\n",
    "        super().__init__(desc=desc, map_name=map_name, is_slippery=is_slippery)\n",
    "        self.booster_tile = 'B'\n",
    "        self.goal_tile = 'G'\n",
    "        self.hole_tile = 'H'\n",
    "        self.enemy_tile = 'E'\n",
    "        self.frozen_tile = 'F'\n",
    "        self.weapon_tile = 'W'\n",
    "        self.boost_active = False\n",
    "        self.has_weapon = False\n",
    "        self.agent_pos = (0, 0)  # Agent starts in the top left corner\n",
    "        self.enemy_pos = (3, 7)  # Initialize enemy position\n",
    "        self.weapon_pos = (2, 1) # Position of the weapon\n",
    "        self.goal_pos = (7, 7)\n",
    "        self.desc_original = self.desc.copy()  # Store the original description map\n",
    "        self.original_tile_enemy = 'F' # Replaces Enemy's tile after it starts moving\n",
    "        self.enemy_active = True # Deactivated after enemy is defeated\n",
    "\n",
    "    def reset(self, **kwargs):\n",
    "        self.boost_active = False\n",
    "        state = super().reset(**kwargs)\n",
    "        self.agent_pos = (0, 0)  # Agent starts in the top left corner\n",
    "        self.enemy_pos = (3, 7)  # Initialize enemy position\n",
    "        self.weapon_pos = (2, 1) # Initialize weapon position\n",
    "        self.desc = self.desc_original.copy()  # Reset the description map\n",
    "        self.desc[self.enemy_pos[0]][self.enemy_pos[1]] = self.enemy_tile.encode()  # Place enemy on the map again\n",
    "        self.desc[self.weapon_pos[0]][self.weapon_pos[1]] = self.weapon_tile.encode()  # Place weapon on the map again\n",
    "        self.has_weapon = False # Reset weapon status\n",
    "        self.enemy_active = True  # Reset enemy status\n",
    "        return state\n",
    "\n",
    "    def step(self, action):\n",
    "        truncated = False  # Assume no truncation\n",
    "\n",
    "        if self.boost_active:\n",
    "            self.boost_active = False  # Reset the boost after using it\n",
    "            next_state = self.skip_step(self.s, action)\n",
    "            if next_state is not None:\n",
    "                self.s = next_state\n",
    "                row, col = divmod(self.s, self.ncol)\n",
    "                self.agent_pos = (row, col)\n",
    "                if self.desc[row][col] == self.booster_tile.encode():  # Check if on booster tile\n",
    "                    self.boost_active = True  # Activate boost again if landing on another booster\n",
    "                if self.desc[row][col] == self.weapon_tile.encode():  # Agent collects weapon\n",
    "                    self.has_weapon = True\n",
    "                    self.desc[row][col] = self.frozen_tile.encode()  # Change weapon tile to normal frozen tile once weapon is collected\n",
    "                if self.desc[row][col] == self.enemy_tile.encode():\n",
    "                    if self.has_weapon:\n",
    "                        self.remove_enemy()  # Remove enemy if agent has weapon when meeting\n",
    "                    else:\n",
    "                        done = True  # Game Over if agent meets enemy and doesn't have a weapon\n",
    "                # Move the enemy and update the map\n",
    "                reward = self.get_reward(row, col)\n",
    "                done = self.desc[row][col] in [self.goal_tile.encode(), self.hole_tile.encode()]  # Game Over if goal reached or when agent fell into a hole\n",
    "                self.move_enemy()\n",
    "                return self.s, reward, done, truncated, {}\n",
    "            else:\n",
    "                # If the skip step results in an invalid state, perform a normal step\n",
    "                state, reward, done, truncated, info = super().step(action)\n",
    "                self.agent_pos = divmod(state, self.ncol)\n",
    "        else:\n",
    "            state, reward, done, truncated, info = super().step(action)\n",
    "            self.agent_pos = divmod(state, self.ncol)\n",
    "            row, col = self.agent_pos\n",
    "            if self.desc[row][col] == self.weapon_tile.encode():  # Agent collects weapon\n",
    "                self.has_weapon = True\n",
    "                self.desc[row][col] = self.frozen_tile.encode()  # Change weapon tile to normal frozen tile once weapon is collected\n",
    "        if self.desc[row][col] == self.booster_tile.encode():  # Check if on booster tile\n",
    "            self.boost_active = True  # Activate boost\n",
    "        if self.enemy_active and self.desc[row][col] == self.enemy_tile.encode():\n",
    "            if self.has_weapon:\n",
    "                self.remove_enemy()  # Remove enemy if agent has weapon when meeting\n",
    "            else:\n",
    "                done = True  # Game Over if agent meets enemy and doesn't have a weapon\n",
    "        # Collect rewards and Move the enemy and update the map\n",
    "        done = self.desc[row][col] in [self.goal_tile.encode(), self.hole_tile.encode()]  # Game Over if goal reached or when agent fell into a hole\n",
    "        reward = self.get_reward(row, col)\n",
    "        self.move_enemy()\n",
    "\n",
    "        return state, reward, done, truncated, info\n",
    "\n",
    "    def skip_step(self, state, action):\n",
    "        \"\"\"\n",
    "        If agent lands on a boost field, the next step will be 2 tiles long instead of one\n",
    "        \"\"\"\n",
    "        row, col = divmod(state, self.ncol)\n",
    "        if action == 0:  # Left\n",
    "            col = max(0, col - 2)\n",
    "        elif action == 1:  # Down\n",
    "            row = min(self.nrow - 1, row + 2)\n",
    "        elif action == 2:  # Right\n",
    "            col = min(self.ncol - 1, col + 2)\n",
    "        elif action == 3:  # Up\n",
    "            row = max(0, row - 2)\n",
    "\n",
    "        new_state = row * self.ncol + col  # Calculate the new state\n",
    "\n",
    "        # Ensure the new state is valid (in range)\n",
    "        if 0 <= new_state < self.nrow * self.ncol:\n",
    "            return new_state\n",
    "        else:\n",
    "            return None  # If invalid, return None\n",
    "\n",
    "    def move_enemy(self):\n",
    "        \"\"\"\n",
    "        Moves the enemy towards the agent's position.\n",
    "        \"\"\"\n",
    "        if not self.enemy_active:\n",
    "            return\n",
    "\n",
    "        # Restore the original content of the enemy's current tile\n",
    "        original_tile = self.desc_original[self.enemy_pos[0]][self.enemy_pos[1]]\n",
    "        self.desc[self.enemy_pos[0]][self.enemy_pos[1]] = original_tile\n",
    "\n",
    "        agent_row, agent_col = self.agent_pos\n",
    "        enemy_row, enemy_col = self.enemy_pos\n",
    "\n",
    "        # Determine the direction of movement\n",
    "        if enemy_row < agent_row:\n",
    "            new_enemy_row = enemy_row + 1\n",
    "            new_enemy_col = enemy_col\n",
    "        elif enemy_row > agent_row:\n",
    "            new_enemy_row = enemy_row - 1\n",
    "            new_enemy_col = enemy_col\n",
    "        elif enemy_col < agent_col:\n",
    "            new_enemy_col = enemy_col + 1\n",
    "            new_enemy_row = enemy_row\n",
    "        elif enemy_col > agent_col:\n",
    "            new_enemy_col = enemy_col - 1\n",
    "            new_enemy_row = enemy_row\n",
    "        else:\n",
    "            new_enemy_row = enemy_row\n",
    "            new_enemy_col = enemy_col\n",
    "\n",
    "        # Determine the direction of movement\n",
    "        if self.boost_active:\n",
    "            if enemy_row < agent_row:\n",
    "                new_enemy_row = enemy_row + 2\n",
    "                new_enemy_col = enemy_col\n",
    "            elif enemy_row > agent_row:\n",
    "                new_enemy_row = enemy_row - 2\n",
    "                new_enemy_col = enemy_col\n",
    "            elif enemy_col < agent_col:\n",
    "                new_enemy_col = enemy_col + 2\n",
    "                new_enemy_row = enemy_row\n",
    "            elif enemy_col > agent_col:\n",
    "                new_enemy_col = enemy_col - 2\n",
    "                new_enemy_row = enemy_row\n",
    "            else:\n",
    "                new_enemy_row = enemy_row\n",
    "                new_enemy_col = enemy_col\n",
    "\n",
    "        # Ensure the new enemy position is within the bounds and not a hole -> enemy can jump over holes for easier implementation\n",
    "        if (0 <= new_enemy_row < self.nrow and 0 <= new_enemy_col < self.ncol and\n",
    "                self.desc[new_enemy_row][new_enemy_col] != self.hole_tile.encode()):\n",
    "            self.enemy_pos = (new_enemy_row, new_enemy_col)\n",
    "        # Update the map with the new enemy position\n",
    "        self.desc[self.enemy_pos[0]][self.enemy_pos[1]] = self.enemy_tile.encode()\n",
    "\n",
    "    def remove_enemy(self): # Remove Enemy once defeated\n",
    "        self.desc[self.enemy_pos[0]][self.enemy_pos[1]] = self.frozen_tile.encode()\n",
    "        self.enemy_pos = (-1, -1)\n",
    "        self.enemy_active = False\n",
    "    \n",
    "    def get_reward(self, row, col):\n",
    "        if self.desc[row][col] == self.goal_tile.encode():\n",
    "            return 20  # High reward for reaching the goal\n",
    "        elif self.desc[row][col] == self.hole_tile.encode():\n",
    "            return -20  # High penalty for falling into a hole\n",
    "        elif self.desc[row][col] == self.enemy_tile.encode() and not self.has_weapon:\n",
    "            return -20  # High penalty for colliding with the enemy\n",
    "        elif self.desc[row][col] == self.weapon_tile.encode():\n",
    "            return 10 # Reward for collecting weapon\n",
    "        elif self.desc[row][col] == self.enemy_tile.encode() and self.has_weapon:\n",
    "            return 15  # Higher reward for defeating the enemy\n",
    "        else:\n",
    "            return -1  # Small penalty for each step taken to motivate finding the shortest path\n",
    "        \n",
    "    def render(self, mode='ansi', action=None):\n",
    "        desc = self.desc.tolist()\n",
    "        if mode == 'ansi':\n",
    "            desc = [[c.decode('utf-8') for c in line] for line in desc]\n",
    "            output = StringIO()\n",
    "            if action is not None:\n",
    "                output.write(f\"Action taken: {ACTION_NAMES[action]}\\n\")\n",
    "            for i, row in enumerate(desc):\n",
    "                for j, cell in enumerate(row):\n",
    "                    if (i, j) == self.agent_pos:\n",
    "                        output.write('\\033[94m' + 'A' + '\\033[0m' + ' ')  # Highlight the agent position in blue\n",
    "                    elif (i, j) == self.enemy_pos:\n",
    "                        output.write('\\033[91m' + 'E' + '\\033[0m' + ' ')  # Highlight the enemy position in red\n",
    "                    else:\n",
    "                        output.write(cell + ' ')\n",
    "                output.write('\\n')\n",
    "            return output.getvalue()\n",
    "        else:\n",
    "            return super().render(mode)"
   ]
  },
  {
   "cell_type": "markdown",
   "id": "5863d486",
   "metadata": {},
   "source": [
    "### Define Custom Map with Booster Tile"
   ]
  },
  {
   "cell_type": "raw",
   "id": "b73710e3",
   "metadata": {},
   "source": [
    "# Example for State Description\n",
    "S F F F F B F H (S: starting point for agent, safe)\n",
    "B H H H F H F B (F: frozen surface, safe)\n",
    "H W F B F F F F (W: weapon, agent can defeat enemy with this) -> new\n",
    "B H F F H F F E (E: starting point for enemy, death) -> new\n",
    "F F H F F F H F (H: hole, stuck forever)\n",
    "F B F F H F F B (B: booster, safe) -> new \n",
    "F F F H F F H H\n",
    "F F F H F F H G (G: goal, safe)"
   ]
  },
  {
   "cell_type": "code",
   "execution_count": 14,
   "id": "b4577d2f",
   "metadata": {},
   "outputs": [
    {
     "name": "stdout",
     "output_type": "stream",
     "text": [
      "Number of observation states:  64\n",
      "Number of action space :  4\n"
     ]
    },
    {
     "name": "stderr",
     "output_type": "stream",
     "text": [
      "C:\\Users\\Janika\\AppData\\Local\\Programs\\Python\\Python311\\Lib\\site-packages\\gym\\envs\\toy_text\\frozen_lake.py:181: RuntimeWarning: invalid value encountered in divide\n",
      "  self.initial_state_distrib /= self.initial_state_distrib.sum()\n"
     ]
    }
   ],
   "source": [
    "# ANSI rendering for JN doesn't seem to be working for custom environment so workaround for visualization is needed\n",
    "# Define action names for clarity in rendering\n",
    "ACTION_NAMES = [\"Left\", \"Down\", \"Right\", \"Up\"]\n",
    "\n",
    "# Example custom map with boosters B and enemy E\n",
    "custom_map = [\n",
    "    \"FFFFFBFH\", # Agents starts in top left corner # Booster allows to move 2 tiles at once and jump across holes\n",
    "    \"BHHHFHFB\", \n",
    "    \"HWFBFFFF\", # Weapon, agent will have to reach this tile before meeting enemy -> weapon has to be reachable before enemy gets too close\n",
    "    \"BHFFHFFF\", # Enemy starts here at the very right and is a dynamic antagonist chasing the agent -> if caught -> end of game\n",
    "    \"FFHFFFHF\",\n",
    "    \"FBFFHFFB\",\n",
    "    \"FFFHFFHH\",\n",
    "    \"FFFHFFHG\"  # Goal is surrounde by holes so agent *has* to find the booster to jump across\n",
    "]\n",
    "\n",
    "env_new = CustomFrozenLakeEnv(desc=custom_map, is_slippery=False)\n",
    "\n",
    "print(\"Number of observation states: \", env_new.observation_space.n)\n",
    "print(\"Number of action space : \", env_new.action_space.n)"
   ]
  },
  {
   "cell_type": "markdown",
   "id": "6b355145",
   "metadata": {},
   "source": [
    "### Define Action Function"
   ]
  },
  {
   "cell_type": "code",
   "execution_count": 15,
   "id": "0fdea253",
   "metadata": {},
   "outputs": [],
   "source": [
    "def choose_action_new(state, epsilon):\n",
    "    \"\"\"\n",
    "    The choose_action() function uses an epsilon-greedy policy for exploration and exploitation.\n",
    "\n",
    "    Args:\n",
    "        state (int): Current state.\n",
    "        epsilon (float): Exploration rate.\n",
    "\n",
    "    Returns:\n",
    "        int: Action to be taken in that state.\n",
    "    \"\"\"\n",
    "    if np.random.uniform(0, 1) < epsilon:\n",
    "        return env_new.action_space.sample()  # Explore: choose a random action\n",
    "    else:\n",
    "        return np.argmax(Q_new[state, :])     # Exploit: choose the action with the highest value"
   ]
  },
  {
   "cell_type": "markdown",
   "id": "9665a351",
   "metadata": {},
   "source": [
    "### Define Learning Function"
   ]
  },
  {
   "cell_type": "code",
   "execution_count": 16,
   "id": "3d4ffcb4",
   "metadata": {},
   "outputs": [],
   "source": [
    "def learn_new(state, state2, reward, action):\n",
    "    \"\"\"\n",
    "    Updates the Q-table.\n",
    "\n",
    "    Args:\n",
    "        state (int): Current state\n",
    "        state2 (int): Future state\n",
    "        reward (int): Reward if reached the goal state\n",
    "        action (int): Action taken\n",
    "    \"\"\"\n",
    "    predict = Q_new[state, action]\n",
    "    target = reward + gamma * np.max(Q_new[state2, :])\n",
    "    Q_new[state, action] = Q_new[state, action] + lr_rate * (target - predict)"
   ]
  },
  {
   "cell_type": "markdown",
   "id": "373fddbd",
   "metadata": {},
   "source": [
    "### Initialize New Q-Table"
   ]
  },
  {
   "cell_type": "code",
   "execution_count": 17,
   "id": "232d56d5",
   "metadata": {},
   "outputs": [
    {
     "data": {
      "text/plain": [
       "array([[0., 0., 0., 0.],\n",
       "       [0., 0., 0., 0.],\n",
       "       [0., 0., 0., 0.],\n",
       "       [0., 0., 0., 0.],\n",
       "       [0., 0., 0., 0.],\n",
       "       [0., 0., 0., 0.],\n",
       "       [0., 0., 0., 0.],\n",
       "       [0., 0., 0., 0.],\n",
       "       [0., 0., 0., 0.],\n",
       "       [0., 0., 0., 0.],\n",
       "       [0., 0., 0., 0.],\n",
       "       [0., 0., 0., 0.],\n",
       "       [0., 0., 0., 0.],\n",
       "       [0., 0., 0., 0.],\n",
       "       [0., 0., 0., 0.],\n",
       "       [0., 0., 0., 0.],\n",
       "       [0., 0., 0., 0.],\n",
       "       [0., 0., 0., 0.],\n",
       "       [0., 0., 0., 0.],\n",
       "       [0., 0., 0., 0.],\n",
       "       [0., 0., 0., 0.],\n",
       "       [0., 0., 0., 0.],\n",
       "       [0., 0., 0., 0.],\n",
       "       [0., 0., 0., 0.],\n",
       "       [0., 0., 0., 0.],\n",
       "       [0., 0., 0., 0.],\n",
       "       [0., 0., 0., 0.],\n",
       "       [0., 0., 0., 0.],\n",
       "       [0., 0., 0., 0.],\n",
       "       [0., 0., 0., 0.],\n",
       "       [0., 0., 0., 0.],\n",
       "       [0., 0., 0., 0.],\n",
       "       [0., 0., 0., 0.],\n",
       "       [0., 0., 0., 0.],\n",
       "       [0., 0., 0., 0.],\n",
       "       [0., 0., 0., 0.],\n",
       "       [0., 0., 0., 0.],\n",
       "       [0., 0., 0., 0.],\n",
       "       [0., 0., 0., 0.],\n",
       "       [0., 0., 0., 0.],\n",
       "       [0., 0., 0., 0.],\n",
       "       [0., 0., 0., 0.],\n",
       "       [0., 0., 0., 0.],\n",
       "       [0., 0., 0., 0.],\n",
       "       [0., 0., 0., 0.],\n",
       "       [0., 0., 0., 0.],\n",
       "       [0., 0., 0., 0.],\n",
       "       [0., 0., 0., 0.],\n",
       "       [0., 0., 0., 0.],\n",
       "       [0., 0., 0., 0.],\n",
       "       [0., 0., 0., 0.],\n",
       "       [0., 0., 0., 0.],\n",
       "       [0., 0., 0., 0.],\n",
       "       [0., 0., 0., 0.],\n",
       "       [0., 0., 0., 0.],\n",
       "       [0., 0., 0., 0.],\n",
       "       [0., 0., 0., 0.],\n",
       "       [0., 0., 0., 0.],\n",
       "       [0., 0., 0., 0.],\n",
       "       [0., 0., 0., 0.],\n",
       "       [0., 0., 0., 0.],\n",
       "       [0., 0., 0., 0.],\n",
       "       [0., 0., 0., 0.],\n",
       "       [0., 0., 0., 0.]])"
      ]
     },
     "execution_count": 17,
     "metadata": {},
     "output_type": "execute_result"
    }
   ],
   "source": [
    "# Initialize the Q-table\n",
    "Q_new = np.zeros((env_new.observation_space.n, env_new.action_space.n))\n",
    "Q_new"
   ]
  },
  {
   "cell_type": "markdown",
   "id": "2b8ac6ff",
   "metadata": {},
   "source": [
    "### Look at a Try Before Training"
   ]
  },
  {
   "cell_type": "code",
   "execution_count": 18,
   "id": "189b60cf",
   "metadata": {},
   "outputs": [
    {
     "name": "stdout",
     "output_type": "stream",
     "text": [
      "\u001b[94mA\u001b[0m F F F F B F H \n",
      "B H H H F H F B \n",
      "H W F B F F F F \n",
      "B H F F H F F \u001b[91mE\u001b[0m \n",
      "F F H F F F H F \n",
      "F B F F H F F B \n",
      "F F F H F F H H \n",
      "F F F H F F H G \n",
      "\n",
      "Action taken: Up\n",
      "\u001b[94mA\u001b[0m F F F F B F H \n",
      "B H H H F H F B \n",
      "H W F B F F F \u001b[91mE\u001b[0m \n",
      "B H F F H F F F \n",
      "F F H F F F H F \n",
      "F B F F H F F B \n",
      "F F F H F F H H \n",
      "F F F H F F H G \n",
      "\n",
      "Action taken: Right\n",
      "F \u001b[94mA\u001b[0m F F F B F H \n",
      "B H H H F H F \u001b[91mE\u001b[0m \n",
      "H W F B F F F F \n",
      "B H F F H F F F \n",
      "F F H F F F H F \n",
      "F B F F H F F B \n",
      "F F F H F F H H \n",
      "F F F H F F H G \n",
      "\n",
      "Action taken: Up\n",
      "F \u001b[94mA\u001b[0m F F F B F H \n",
      "B H H H F H F \u001b[91mE\u001b[0m \n",
      "H W F B F F F F \n",
      "B H F F H F F F \n",
      "F F H F F F H F \n",
      "F B F F H F F B \n",
      "F F F H F F H H \n",
      "F F F H F F H G \n",
      "\n",
      "Action taken: Left\n",
      "\u001b[94mA\u001b[0m F F F F B F H \n",
      "B H H H F H F \u001b[91mE\u001b[0m \n",
      "H W F B F F F F \n",
      "B H F F H F F F \n",
      "F F H F F F H F \n",
      "F B F F H F F B \n",
      "F F F H F F H H \n",
      "F F F H F F H G \n",
      "\n"
     ]
    }
   ],
   "source": [
    "# Reset environment to initial state\n",
    "state, _ = env_new.reset()\n",
    "\n",
    "# Render the initial state\n",
    "print(env_new.render())\n",
    "\n",
    "# Take a few random steps to see the environment in action\n",
    "for _ in range(4):\n",
    "    action = env_new.action_space.sample()  # Choose a random action\n",
    "    state, reward, done, truncated, info = env_new.step(action)\n",
    "    print(env_new.render(action=action))\n",
    "    if done:\n",
    "        break"
   ]
  },
  {
   "cell_type": "markdown",
   "id": "5d32db10",
   "metadata": {},
   "source": [
    "### Train Agent"
   ]
  },
  {
   "cell_type": "code",
   "execution_count": 19,
   "id": "5bacc536",
   "metadata": {
    "scrolled": false
   },
   "outputs": [],
   "source": [
    "rewards_new = []\n",
    "epsilon = initial_epsilon\n",
    "\n",
    "for episode in range(total_episodes):\n",
    "    state, _ = env_new.reset()\n",
    "    total_reward = 0\n",
    "\n",
    "    for t in range(max_steps):\n",
    "        action = choose_action_new(state, epsilon)\n",
    "        state2, reward, done, truncated, info = env_new.step(action)\n",
    "\n",
    "        learn_new(state, state2, reward, action)\n",
    "\n",
    "        total_reward += reward\n",
    "        state = state2\n",
    "\n",
    "        if done:\n",
    "            break\n",
    "\n",
    "    epsilon = max(min_epsilon, epsilon * epsilon_decay)\n",
    "\n",
    "    rewards_new.append(total_reward)"
   ]
  },
  {
   "cell_type": "markdown",
   "id": "8dc18af8",
   "metadata": {},
   "source": [
    "### Plot Reward Function Over Iterations of Training"
   ]
  },
  {
   "cell_type": "code",
   "execution_count": 20,
   "id": "297e8581",
   "metadata": {},
   "outputs": [
    {
     "data": {
      "image/png": "[encoded data removed]",
      "text/plain": [
       "<Figure size 640x480 with 1 Axes>"
      ]
     },
     "metadata": {},
     "output_type": "display_data"
    }
   ],
   "source": [
    "# Calculate average reward per 100 episodes\n",
    "avg_rewards_new = []\n",
    "for i in range(0, len(rewards), 100):\n",
    "    avg_rewards_new.append(np.mean(rewards[i:i + 100]))\n",
    "\n",
    "plt.plot(avg_rewards)\n",
    "plt.xlabel('Episode Number x100')\n",
    "plt.ylabel('Average Reward')\n",
    "plt.title('Total Average Reward per 100 Episodes')\n",
    "plt.show()\n"
   ]
  },
  {
   "cell_type": "markdown",
   "id": "6e6455ed",
   "metadata": {},
   "source": [
    "### Look at a Walkthrough after Training"
   ]
  },
  {
   "cell_type": "code",
   "execution_count": 21,
   "id": "a57ed879",
   "metadata": {
    "scrolled": false
   },
   "outputs": [
    {
     "name": "stdout",
     "output_type": "stream",
     "text": [
      "Final try after training:\n",
      "Action taken: Right\n",
      "F \u001b[94mA\u001b[0m F F F B F H \n",
      "B H H H F H F B \n",
      "H W F B F F F \u001b[91mE\u001b[0m \n",
      "B H F F H F F F \n",
      "F F H F F F H F \n",
      "F B F F H F F B \n",
      "F F F H F F H H \n",
      "F F F H F F H G \n",
      "\n",
      "Action taken: Right\n",
      "F F \u001b[94mA\u001b[0m F F B F H \n",
      "B H H H F H F \u001b[91mE\u001b[0m \n",
      "H W F B F F F F \n",
      "B H F F H F F F \n",
      "F F H F F F H F \n",
      "F B F F H F F B \n",
      "F F F H F F H H \n",
      "F F F H F F H G \n",
      "\n",
      "Action taken: Right\n",
      "F F F \u001b[94mA\u001b[0m F B F H \n",
      "B H H H F H F \u001b[91mE\u001b[0m \n",
      "H W F B F F F F \n",
      "B H F F H F F F \n",
      "F F H F F F H F \n",
      "F B F F H F F B \n",
      "F F F H F F H H \n",
      "F F F H F F H G \n",
      "\n",
      "Action taken: Right\n",
      "F F F F \u001b[94mA\u001b[0m B F H \n",
      "B H H H F H F \u001b[91mE\u001b[0m \n",
      "H W F B F F F F \n",
      "B H F F H F F F \n",
      "F F H F F F H F \n",
      "F B F F H F F B \n",
      "F F F H F F H H \n",
      "F F F H F F H G \n",
      "\n",
      "Action taken: Right\n",
      "F F F F F \u001b[94mA\u001b[0m F H \n",
      "B H H H F H F \u001b[91mE\u001b[0m \n",
      "H W F B F F F F \n",
      "B H F F H F F F \n",
      "F F H F F F H F \n",
      "F B F F H F F B \n",
      "F F F H F F H H \n",
      "F F F H F F H G \n",
      "\n",
      "Action taken: Down\n",
      "F F F F F B F H \n",
      "B H H H F H F B \n",
      "H W F B F \u001b[94mA\u001b[0m F \u001b[91mE\u001b[0m \n",
      "B H F F H F F F \n",
      "F F H F F F H F \n",
      "F B F F H F F B \n",
      "F F F H F F H H \n",
      "F F F H F F H G \n",
      "\n",
      "Action taken: Down\n",
      "F F F F F B F H \n",
      "B H H H F H F B \n",
      "H W F B F F F F \n",
      "B H F F H \u001b[94mA\u001b[0m F \u001b[91mE\u001b[0m \n",
      "F F H F F F H F \n",
      "F B F F H F F B \n",
      "F F F H F F H H \n",
      "F F F H F F H G \n",
      "\n",
      "Action taken: Right\n",
      "F F F F F B F H \n",
      "B H H H F H F B \n",
      "H W F B F F F F \n",
      "B H F F H F \u001b[94mA\u001b[0m F \n",
      "F F H F F F H F \n",
      "F B F F H F F B \n",
      "F F F H F F H H \n",
      "F F F H F F H G \n",
      "\n",
      "Action taken: Right\n",
      "F F F F F B F H \n",
      "B H H H F H F B \n",
      "H W F B F F F F \n",
      "B H F F H F F \u001b[94mA\u001b[0m \n",
      "F F H F F F H F \n",
      "F B F F H F F B \n",
      "F F F H F F H H \n",
      "F F F H F F H G \n",
      "\n",
      "Action taken: Down\n",
      "F F F F F B F H \n",
      "B H H H F H F B \n",
      "H W F B F F F F \n",
      "B H F F H F F F \n",
      "F F H F F F H \u001b[94mA\u001b[0m \n",
      "F B F F H F F B \n",
      "F F F H F F H H \n",
      "F F F H F F H G \n",
      "\n",
      "Action taken: Down\n",
      "F F F F F B F H \n",
      "B H H H F H F B \n",
      "H W F B F F F F \n",
      "B H F F H F F F \n",
      "F F H F F F H \u001b[91mE\u001b[0m \n",
      "F B F F H F F \u001b[94mA\u001b[0m \n",
      "F F F H F F H H \n",
      "F F F H F F H G \n",
      "\n",
      "Action taken: Down\n",
      "F F F F F B F H \n",
      "B H H H F H F B \n",
      "H W F B F F F F \n",
      "B H F F H F F F \n",
      "F F H F F F H F \n",
      "F B F F H F F \u001b[91mE\u001b[0m \n",
      "F F F H F F H H \n",
      "F F F H F F H \u001b[94mA\u001b[0m \n",
      "\n"
     ]
    }
   ],
   "source": [
    "# Render the environment after training is complete\n",
    "state, _ = env_new.reset()  # Reset the environment for the final render\n",
    "t = 0\n",
    "\n",
    "print(\"Final try after training:\")\n",
    "while t < max_steps:\n",
    "    action = np.argmax(Q_new[state, :])  # Take the best action based on the learned Q-table\n",
    "    state, reward, done, truncated, info = env_new.step(action)  # Take action and observe outcome\n",
    "    print(env_new.render(action=action))  # Render the environment after training\n",
    "    t += 1\n",
    "\n",
    "    if done:  # End episode if goal is reached\n",
    "        break\n"
   ]
  },
  {
   "cell_type": "markdown",
   "id": "bac40fa3",
   "metadata": {},
   "source": [
    "### Look at and Save Our Trained Q-Table\n"
   ]
  },
  {
   "cell_type": "code",
   "execution_count": 22,
   "id": "1c4bc326",
   "metadata": {
    "scrolled": false
   },
   "outputs": [
    {
     "data": {
      "text/plain": [
       "array([[  2.57193908,   1.46906152,   3.72076987,   2.57193908],\n",
       "       [  2.57193908, -20.        ,   4.91746862,   3.72076987],\n",
       "       [  3.72076987, -20.        ,   6.16402981,   4.91746862],\n",
       "       [  4.91746862, -20.        ,   7.46253105,   6.16402981],\n",
       "       [  6.16402981,   7.46253105,   8.81513651,   7.46253105],\n",
       "       [  6.16402981,  10.22410054, -20.        ,   8.81513651],\n",
       "       [ -5.27034184,  -2.49071637, -19.278     , -16.2       ],\n",
       "       [  0.        ,   0.        ,   0.        ,   0.        ],\n",
       "       [  1.46653843,  -2.90268321, -20.        ,   2.57193908],\n",
       "       [  0.        ,   0.        ,   0.        ,   0.        ],\n",
       "       [  0.        ,   0.        ,   0.        ,   0.        ],\n",
       "       [  0.        ,   0.        ,   0.        ,   0.        ],\n",
       "       [-20.        ,   8.81513651, -20.        ,   7.45362463],\n",
       "       [  0.        ,   0.        ,   0.        ,   0.        ],\n",
       "       [-19.86282   ,  11.69177139,  -2.77115792,  -3.24197873],\n",
       "       [-19.278     ,  14.81174761,  -2.35211831, -19.86282   ],\n",
       "       [  0.        ,   0.        ,   0.        ,   0.        ],\n",
       "       [-19.99996603, -19.9950478 ,  -2.75136864, -19.99999996],\n",
       "       [ -2.62323354,   1.77484103, -13.79143916, -20.        ],\n",
       "       [ -2.95808018,   7.46442639,  10.22410054,  -5.67956262],\n",
       "       [  8.81513651, -20.        ,  10.22410054,   7.46253105],\n",
       "       [  8.81513651,  11.69177139,  11.69177139, -20.        ],\n",
       "       [ 10.22410054,  13.2205952 ,  13.22059516,  10.22410052],\n",
       "       [ 11.46623162,  14.81312   ,  -5.77940841,  13.18859826],\n",
       "       [ -8.93792527,  -8.62582506, -16.26112691,   1.10602657],\n",
       "       [  0.        ,   0.        ,   0.        ,   0.        ],\n",
       "       [-20.        , -20.        ,   5.58161925,  -1.49548277],\n",
       "       [ -1.46035776,   7.44413361, -20.        ,  -0.8712021 ],\n",
       "       [  0.        ,   0.        ,   0.        ,   0.        ],\n",
       "       [-20.        ,  10.22410054,  13.2205952 ,  10.22410054],\n",
       "       [ 11.69177139, -20.        ,  14.81312   ,  11.69177139],\n",
       "       [ 13.2205952 ,  16.472     ,  -4.18688   ,  13.2205952 ],\n",
       "       [-20.57777678,  -8.23245166,  -0.34710215,  -8.35201073],\n",
       "       [ -7.20027333,   2.86860609, -19.99905908, -19.99905908],\n",
       "       [  0.        ,   0.        ,   0.        ,   0.        ],\n",
       "       [-20.        ,  -2.69126077,   8.81853201,  -0.45982136],\n",
       "       [  0.53749717, -20.        ,  10.22410054, -20.        ],\n",
       "       [  8.81513655,   8.81553137, -20.        ,  11.69177139],\n",
       "       [  0.        ,   0.        ,   0.        ,   0.        ],\n",
       "       [-20.        ,  18.2       ,  -2.528     ,  14.81312   ],\n",
       "       [ -8.07356133,  -8.36810256, -21.17045106,  -5.95996149],\n",
       "       [ -8.4407193 ,  -6.00002853,   7.34800989, -17.73706209],\n",
       "       [ -5.97262424,  -5.84870338,  -5.71393271, -19.99999877],\n",
       "       [ -5.6682716 , -19.99999977, -20.        ,   8.22371215],\n",
       "       [  0.        ,   0.        ,   0.        ,   0.        ],\n",
       "       [-20.        ,   8.88544101,  15.916421  ,  10.22410054],\n",
       "       [ 14.72174094, -20.        ,  18.2       , -20.        ],\n",
       "       [ 13.73303923,  20.        ,  18.2       ,  14.81312   ],\n",
       "       [-23.81481008,  -8.02040523, -19.16369122,  -7.94780734],\n",
       "       [ -7.3111024 ,  -5.607528  ,  -5.26466168,  -5.90629849],\n",
       "       [-20.90537299,  -5.83791179, -19.99999877,  -5.67053456],\n",
       "       [  0.        ,   0.        ,   0.        ,   0.        ],\n",
       "       [-16.2       ,  -1.622997  ,   7.95000591, -16.2       ],\n",
       "       [  7.83642713,   7.3105726 , -19.9950478 ,   9.00811279],\n",
       "       [  0.        ,   0.        ,   0.        ,   0.        ],\n",
       "       [  0.        ,   0.        ,   0.        ,   0.        ],\n",
       "       [-22.34648718,  -8.21130629,  -6.19551411,  -7.62166087],\n",
       "       [ -7.53457536,  -7.76128725,  -6.08228195,  -5.34734894],\n",
       "       [ -5.62794247,  -7.99623041, -19.99999977,  -5.8650372 ],\n",
       "       [  0.        ,   0.        ,   0.        ,   0.        ],\n",
       "       [-19.278     ,  -0.81      ,  -0.9639    ,  -1.55952864],\n",
       "       [ -1.593756  ,  -0.81      , -19.86282   ,   8.19675765],\n",
       "       [  0.        ,   0.        ,   0.        ,   0.        ],\n",
       "       [  0.        ,   0.        ,   0.        ,   0.        ]])"
      ]
     },
     "execution_count": 22,
     "metadata": {},
     "output_type": "execute_result"
    }
   ],
   "source": [
    "Q_new"
   ]
  },
  {
   "cell_type": "code",
   "execution_count": 23,
   "id": "853b0185",
   "metadata": {},
   "outputs": [],
   "source": [
    "# Dumping the Q-table in pickle file for easy loading when needed.\n",
    "with open(\"frozenLake_new_qTable.pkl\", 'wb') as f:\n",
    "    pickle.dump(Q_new, f)"
   ]
  }
 ],
 "metadata": {
  "kernelspec": {
   "display_name": "Python 3.11 (rlcard)",
   "language": "python",
   "name": "python311"
  },
  "language_info": {
   "codemirror_mode": {
    "name": "ipython",
    "version": 3
   },
   "file_extension": ".py",
   "mimetype": "text/x-python",
   "name": "python",
   "nbconvert_exporter": "python",
   "pygments_lexer": "ipython3",
   "version": "3.11.6"
  }
 },
 "nbformat": 4,
 "nbformat_minor": 5
}
